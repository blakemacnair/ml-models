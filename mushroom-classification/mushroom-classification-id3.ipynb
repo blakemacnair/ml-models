{
 "cells": [
  {
   "cell_type": "code",
   "execution_count": 1,
   "outputs": [],
   "source": [
    "from typing import List\n",
    "import pandas as pd\n",
    "import numpy as np"
   ],
   "metadata": {
    "collapsed": false,
    "pycharm": {
     "name": "#%%\n",
     "is_executing": false
    }
   }
  },
  {
   "cell_type": "code",
   "execution_count": 2,
   "metadata": {
    "collapsed": true,
    "pycharm": {
     "is_executing": false
    }
   },
   "outputs": [],
   "source": [
    "def entropy(s: pd.DataFrame, a: str):\n",
    "    a_values = s[a]\n",
    "    n = len(a_values)\n",
    "    values = a_values.unique()\n",
    "    p_values = [len(a_values[a_values == value]) / n for value in values]\n",
    "        \n",
    "    return - np.sum([p * np.log2(p) for p in p_values])\n",
    "\n",
    "\n",
    "def information_gain(s: pd.DataFrame, a: str):\n",
    "    e_total = entropy(s, 'class')\n",
    "    \n",
    "    n = len(s)\n",
    "    a_values = s[a]\n",
    "    values = a_values.unique()\n",
    "    e_given_a = np.sum([entropy(s[s[a] == value], 'class') * len(s[s[a] == value]) / n for value in values])\n",
    "    \n",
    "    return e_total - e_given_a\n",
    "\n",
    "\n",
    "class ID3Node(object):\n",
    "    def __init__(self, attribute: str, children: List, leaf_value=None):\n",
    "        self.attribute = attribute\n",
    "        self.children = children\n",
    "        self.leaf_value = leaf_value\n"
   ]
  },
  {
   "cell_type": "code",
   "execution_count": 3,
   "outputs": [
    {
     "traceback": [
      "\u001b[0;31m---------------------------------------------------------------------------\u001b[0m",
      "\u001b[0;31mTypeError\u001b[0m                                 Traceback (most recent call last)",
      "\u001b[0;32m<ipython-input-3-dc8791bf88ea>\u001b[0m in \u001b[0;36m<module>\u001b[0;34m\u001b[0m\n\u001b[1;32m      3\u001b[0m \u001b[0;34m\u001b[0m\u001b[0m\n\u001b[1;32m      4\u001b[0m \u001b[0mshrooms\u001b[0m \u001b[0;34m=\u001b[0m \u001b[0mimport_mushrooms\u001b[0m\u001b[0;34m(\u001b[0m\u001b[0;34m)\u001b[0m\u001b[0;34m\u001b[0m\u001b[0;34m\u001b[0m\u001b[0m\n\u001b[0;32m----> 5\u001b[0;31m \u001b[0mprint\u001b[0m\u001b[0;34m(\u001b[0m\u001b[0mshrooms\u001b[0m\u001b[0;34m.\u001b[0m\u001b[0mfirst\u001b[0m\u001b[0;34m(\u001b[0m\u001b[0;36m5\u001b[0m\u001b[0;34m)\u001b[0m\u001b[0;34m)\u001b[0m\u001b[0;34m\u001b[0m\u001b[0;34m\u001b[0m\u001b[0m\n\u001b[0m\u001b[1;32m      6\u001b[0m \u001b[0;34m\u001b[0m\u001b[0m\n",
      "\u001b[0;32m~/anaconda3/envs/ml-models/lib/python3.7/site-packages/pandas/core/generic.py\u001b[0m in \u001b[0;36mfirst\u001b[0;34m(self, offset)\u001b[0m\n\u001b[1;32m   8500\u001b[0m         \"\"\"\n\u001b[1;32m   8501\u001b[0m         \u001b[0;32mif\u001b[0m \u001b[0;32mnot\u001b[0m \u001b[0misinstance\u001b[0m\u001b[0;34m(\u001b[0m\u001b[0mself\u001b[0m\u001b[0;34m.\u001b[0m\u001b[0mindex\u001b[0m\u001b[0;34m,\u001b[0m \u001b[0mDatetimeIndex\u001b[0m\u001b[0;34m)\u001b[0m\u001b[0;34m:\u001b[0m\u001b[0;34m\u001b[0m\u001b[0;34m\u001b[0m\u001b[0m\n\u001b[0;32m-> 8502\u001b[0;31m             \u001b[0;32mraise\u001b[0m \u001b[0mTypeError\u001b[0m\u001b[0;34m(\u001b[0m\u001b[0;34m\"'first' only supports a DatetimeIndex index\"\u001b[0m\u001b[0;34m)\u001b[0m\u001b[0;34m\u001b[0m\u001b[0;34m\u001b[0m\u001b[0m\n\u001b[0m\u001b[1;32m   8503\u001b[0m \u001b[0;34m\u001b[0m\u001b[0m\n\u001b[1;32m   8504\u001b[0m         \u001b[0;32mif\u001b[0m \u001b[0mlen\u001b[0m\u001b[0;34m(\u001b[0m\u001b[0mself\u001b[0m\u001b[0;34m.\u001b[0m\u001b[0mindex\u001b[0m\u001b[0;34m)\u001b[0m \u001b[0;34m==\u001b[0m \u001b[0;36m0\u001b[0m\u001b[0;34m:\u001b[0m\u001b[0;34m\u001b[0m\u001b[0;34m\u001b[0m\u001b[0m\n",
      "\u001b[0;31mTypeError\u001b[0m: 'first' only supports a DatetimeIndex index"
     ],
     "ename": "TypeError",
     "evalue": "'first' only supports a DatetimeIndex index",
     "output_type": "error"
    }
   ],
   "source": [
    "def import_mushrooms() -> pd.DataFrame:\n",
    "    return pd.read_csv(\"mushrooms.csv\")\n",
    "\n",
    "shrooms = import_mushrooms()\n",
    "print(shrooms.first(5))\n",
    "    "
   ],
   "metadata": {
    "collapsed": false,
    "pycharm": {
     "name": "#%%\n",
     "is_executing": false
    }
   }
  }
 ],
 "metadata": {
  "kernelspec": {
   "display_name": "Python 3",
   "language": "python",
   "name": "python3"
  },
  "language_info": {
   "codemirror_mode": {
    "name": "ipython",
    "version": 2
   },
   "file_extension": ".py",
   "mimetype": "text/x-python",
   "name": "python",
   "nbconvert_exporter": "python",
   "pygments_lexer": "ipython2",
   "version": "2.7.6"
  },
  "pycharm": {
   "stem_cell": {
    "cell_type": "raw",
    "source": [],
    "metadata": {
     "collapsed": false
    }
   }
  }
 },
 "nbformat": 4,
 "nbformat_minor": 0
}